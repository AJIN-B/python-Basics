{
 "cells": [
  {
   "cell_type": "markdown",
   "metadata": {},
   "source": [
    "### write a program which will find all such numbers which are divisible by 7 but are not a multiple of 5,between 2000 and 3200(both included).The numbers obtained should be printed in a comma-seperated sequence on a line."
   ]
  },
  {
   "cell_type": "code",
   "execution_count": 2,
   "metadata": {},
   "outputs": [
    {
     "name": "stdout",
     "output_type": "stream",
     "text": [
      "2002,2009,2016,2023,2037,2044,2051,2058,2072,2079,2086,2093,2107,2114,2121,2128,2142,2149,2156,2163,2177,2184,2191,2198,2212,2219,2226,2233,2247,2254,2261,2268,2282,2289,2296,2303,2317,2324,2331,2338,2352,2359,2366,2373,2387,2394,2401,2408,2422,2429,2436,2443,2457,2464,2471,2478,2492,2499,2506,2513,2527,2534,2541,2548,2562,2569,2576,2583,2597,2604,2611,2618,2632,2639,2646,2653,2667,2674,2681,2688,2702,2709,2716,2723,2737,2744,2751,2758,2772,2779,2786,2793,2807,2814,2821,2828,2842,2849,2856,2863,2877,2884,2891,2898,2912,2919,2926,2933,2947,2954,2961,2968,2982,2989,2996,3003,3017,3024,3031,3038,3052,3059,3066,3073,3087,3094,3101,3108,3122,3129,3136,3143,3157,3164,3171,3178,3192,3199\n"
     ]
    }
   ],
   "source": [
    "a=[]\n",
    "for x in range (2000,3200):\n",
    "    if (x%7==0)and (x%5!=0):\n",
    "        a.append (str(x))\n",
    "print (','.join(a))"
   ]
  },
  {
   "cell_type": "markdown",
   "metadata": {},
   "source": [
    "### Write a python program to accept the user's first and last name then getting them printed in the reverse order with a space between first name and last name"
   ]
  },
  {
   "cell_type": "code",
   "execution_count": 3,
   "metadata": {},
   "outputs": [
    {
     "name": "stdout",
     "output_type": "stream",
     "text": [
      "First Name :  ajin\n",
      "Last Name :  leo\n",
      "Full Name :  leo\n",
      "Reversed Name :  oel nija\n"
     ]
    }
   ],
   "source": [
    "first_name= \"ajin\"\n",
    "last_name= \"leo\"\n",
    "full_name = \" \".join([first_name ,last_name])\n",
    "print(\"First Name : \",first_name)\n",
    "print(\"Last Name : \",last_name)\n",
    "print(\"Full Name : \",last_name)\n",
    "print(\"Reversed Name : \",full_name[::-1])"
   ]
  },
  {
   "cell_type": "markdown",
   "metadata": {},
   "source": [
    "### Write a Python program to find the volume of a sphere with diameter 12 cm.Formula: V=4/3 * π * r 3  "
   ]
  },
  {
   "cell_type": "code",
   "execution_count": 4,
   "metadata": {},
   "outputs": [
    {
     "name": "stdout",
     "output_type": "stream",
     "text": [
      "Radius of sphere:3.76\n",
      "Volume of the sphere is  222.75471847619045\n"
     ]
    }
   ],
   "source": [
    "pi=22/7\n",
    "radian=float(input('Radius of sphere:'))\n",
    "volume=(4/3)*(pi*radian**3)\n",
    "print(\"Volume of the sphere is \",volume)"
   ]
  },
  {
   "cell_type": "markdown",
   "metadata": {},
   "source": [
    "### Write a program which accepts a sequence of comma-separated numbers from console and generate a list."
   ]
  },
  {
   "cell_type": "code",
   "execution_count": 5,
   "metadata": {},
   "outputs": [
    {
     "name": "stdout",
     "output_type": "stream",
     "text": [
      "Enter any two values \n",
      "5,6\n",
      "\n",
      "The value of a is  5 and b is 6\n",
      "Enter any three values\n",
      "2,1,4\n",
      "\n",
      "value of a is 2, b is 1 and c is 4\n",
      "Enter multiple values\n",
      "7,5,8,4,5,8,4,5,7,5,4,5,4\n",
      "\n",
      "The values of input are [7, 5, 8, 4, 5, 8, 4, 5, 7, 5, 4, 5, 4]\n"
     ]
    }
   ],
   "source": [
    "a,b =[int (x) for x in input (\"Enter any two values \\n\").split(',')]\n",
    "print (\"\\nThe value of a is  {} and b is {}\".format (a,b))\n",
    "\n",
    "a,b,c = [int(x) for x in input ('Enter any three values\\n').split(',')]\n",
    "print(\"\\nvalue of a is {}, b is {} and c is {}\".format(a,b,c))\n",
    "\n",
    "L= [int(x) for x in input (\"Enter multiple values\\n\").split(',')]\n",
    "print (\"\\nThe values of input are\", L)"
   ]
  },
  {
   "cell_type": "markdown",
   "metadata": {},
   "source": [
    "### Patterns"
   ]
  },
  {
   "cell_type": "code",
   "execution_count": 6,
   "metadata": {},
   "outputs": [
    {
     "name": "stdout",
     "output_type": "stream",
     "text": [
      "Enter max star to be display on single line : 5\n",
      "* \n",
      "* * \n",
      "* * * \n",
      "* * * * \n",
      "* * * * * \n",
      "* * * * \n",
      "* * * \n",
      "* * \n",
      "* \n",
      "\n"
     ]
    }
   ],
   "source": [
    "rows = int (input(\"Enter max star to be display on single line : \"))\n",
    "for i in range (0,rows):\n",
    "    for j in range (0,i+1):\n",
    "        print (\"*\",end=' ')\n",
    "    print (\"\\r\")\n",
    "for i in range (rows, 0,-1):\n",
    "    for j in range (0, i -1):\n",
    "        print (\"*\", end =' ')\n",
    "    print(\"\\r\")"
   ]
  },
  {
   "cell_type": "markdown",
   "metadata": {},
   "source": [
    "### Write a Python program to reverse a word after accepting the input from the user. "
   ]
  },
  {
   "cell_type": "code",
   "execution_count": 7,
   "metadata": {},
   "outputs": [
    {
     "name": "stdout",
     "output_type": "stream",
     "text": [
      "Enter the word : Ajin\n",
      "Reversed word:  nijA\n"
     ]
    }
   ],
   "source": [
    "z =input(\"Enter the word : \")\n",
    "strlength=len(z)\n",
    "reversedStr=z[strlength::-1] \n",
    "print (\"Reversed word: \" ,reversedStr)"
   ]
  },
  {
   "cell_type": "code",
   "execution_count": null,
   "metadata": {},
   "outputs": [],
   "source": []
  }
 ],
 "metadata": {
  "kernelspec": {
   "display_name": "Python 3 (ipykernel)",
   "language": "python",
   "name": "python3"
  },
  "language_info": {
   "codemirror_mode": {
    "name": "ipython",
    "version": 3
   },
   "file_extension": ".py",
   "mimetype": "text/x-python",
   "name": "python",
   "nbconvert_exporter": "python",
   "pygments_lexer": "ipython3",
   "version": "3.10.11"
  }
 },
 "nbformat": 4,
 "nbformat_minor": 4
}
