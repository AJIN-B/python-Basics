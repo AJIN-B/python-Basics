{
 "cells": [
  {
   "cell_type": "markdown",
   "id": "ac23c405",
   "metadata": {},
   "source": [
    "## what is python programming language?\n",
    "\n",
    "> ### Python is a high-level, interpreted, and general-purpose dynamic programming language that focuses on code readability. \n",
    "> ### It was created by Guido van Rossum in 1991. \n",
    "> ### Python is widely used in various domains such as web development, scientific computing, data analysis, artificial intelligence, and more. Python’s syntax is designed to be simple and easy to read, making it an excellent language for beginners to learn. \n",
    "> ### Python is also known for its vast standard library that provides many pre-built modules for various tasks.\n",
    "> ### There you can guide and documentation for Python’s standard library. \n",
    "> ### You can also download the latest version of Python from the website.\n",
    "> ### If you are interested in learning Python, you can start here. "
   ]
  },
  {
   "cell_type": "markdown",
   "id": "5a985098",
   "metadata": {},
   "source": [
    "## Lets see some python built-in functions"
   ]
  },
  {
   "cell_type": "raw",
   "id": "39b3c98d",
   "metadata": {},
   "source": [
    "Python has a set of built-in functions.\n",
    "\n",
    "Function\t  Description\n",
    "\n",
    "abs()\t      Returns the absolute value of a number.\n",
    "all()\t      Returns True if all items in an iterable object are true.\n",
    "any()\t      Returns True if any item in an iterable object is true.\n",
    "ascii()\t      Returns a readable version of an object. Replaces none-ascii characters with escape character.\n",
    "bin()\t      Returns the binary version of a number.\n",
    "bool()\t      Returns the boolean value of the specified object.\n",
    "bytearray()\t  Returns an array of bytes.\n",
    "bytes()\t      Returns a bytes object.\n",
    "callable()\t  Returns True if the specified object is callable, otherwise False\n",
    "chr()\t      Returns a character from the specified Unicode code.\n",
    "classmethod() Converts a method into a class method.\n",
    "compile()\t  Returns the specified source as an object, ready to be executed.\n",
    "complex()\t  Returns a complex number.\n",
    "delattr()\t  Deletes the specified attribute (property or method) from the specified object.\n",
    "dict()\t      Returns a dictionary (Array).\n",
    "dir()\t      Returns a list of the specified object's properties and methods.\n",
    "divmod()\t  Returns the quotient and the remainder when argument1 is divided by argument2.\n",
    "enumerate()\t  Takes a collection (e.g. a tuple) and returns it as an enumerate object.\n",
    "eval()\t      Evaluates and executes an expression.\n",
    "exec()\t      Executes the specified code (or object)\n",
    "filter()\t  Use a filter function to exclude items in an iterable object\n",
    "float()\t      Returns a floating point number\n",
    "format()\t  Formats a specified value\n",
    "frozenset()\t  Returns a frozenset object\n",
    "getattr()\t  Returns the value of the specified attribute (property or method)\n",
    "globals()\t  Returns the current global symbol table as a dictionary\n",
    "hasattr()\t  Returns True if the specified object has the specified attribute (property/method)\n",
    "hash()\t      Returns the hash value of a specified object\n",
    "help()\t      Executes the built-in help system\n",
    "hex()\t      Converts a number into a hexadecimal value\n",
    "id()\t      Returns the id of an object\n",
    "input()\t      Allowing user input\n",
    "int()\t      Returns an integer number\n",
    "isinstance()  Returns True if a specified object is an instance of a specified object\n",
    "issubclass()  Returns True if a specified class is a subclass of a specified object\n",
    "iter()\t      Returns an iterator object\n",
    "len()\t      Returns the length of an object\n",
    "list()\t      Returns a list\n",
    "locals()\t  Returns an updated dictionary of the current local symbol table\n",
    "map()\t      Returns the specified iterator with the specified function applied to each item\n",
    "max()\t      Returns the largest item in an iterable\n",
    "memoryview()  Returns a memory view object\n",
    "min()\t      Returns the smallest item in an iterable\n",
    "next()\t      Returns the next item in an iterable\n",
    "object()\t  Returns a new object\n",
    "oct()\t      Converts a number into an octal\n",
    "open()\t      Opens a file and returns a file object\n",
    "ord()\t      Convert an integer representing the Unicode of the specified character\n",
    "pow()\t      Returns the value of x to the power of y\n",
    "print()\t      Prints to the standard output device\n",
    "property()    Gets, sets, deletes a property\n",
    "range()\t      Returns a sequence of numbers, starting from 0 and increments by 1 (by default)\n",
    "repr()\t      Returns a readable version of an object\n",
    "reversed()    Returns a reversed iterator\n",
    "round()\t      Rounds a numbers\n",
    "set()\t      Returns a new set object\n",
    "setattr()     Sets an attribute (property/method) of an object\n",
    "slice()\t      Returns a slice object\n",
    "sorted()      Returns a sorted list\n",
    "staticmethod()Converts a method into a static method\n",
    "str()\t      Returns a string object\n",
    "sum()\t      Sums the items of an iterator\n",
    "super()\t      Returns an object that represents the parent class\n",
    "tuple()\t      Returns a tuple\n",
    "type()\t      Returns the type of an object\n",
    "vars()\t      Returns the __dict__ property of an object\n",
    "zip()\t      Returns an iterator, from two or more iterators"
   ]
  },
  {
   "cell_type": "markdown",
   "id": "40fc3db7",
   "metadata": {},
   "source": [
    "### Python built-in data-types.\n",
    "\n",
    "- int\n",
    "\n",
    "- float\n",
    "\n",
    "- str (string)\n",
    "\n",
    "- bool\n"
   ]
  },
  {
   "cell_type": "code",
   "execution_count": 6,
   "id": "13bd2199",
   "metadata": {},
   "outputs": [
    {
     "name": "stdout",
     "output_type": "stream",
     "text": [
      "Absolute values :  5\n",
      "Binary value of a number :  -0b101\n",
      "character from the specified Unicode value :  A\n",
      "complex value of a number :  (4+0j)\n",
      "divmod value of argument1 is divided by argument2 :  (1, 2)\n",
      "float value of given argument :  5.0\n",
      "Hsh value of given argument :  4782456146097441210\n",
      "Integer value of given argument :  5\n",
      "Length of the given argument :  5\n",
      "largest value of given argument :  6\n",
      "smallest value of given argument :  3\n",
      "Rounds of given argument :  6\n",
      "String of given argument :  5.6\n",
      "Sum of given argument :  23.3\n"
     ]
    }
   ],
   "source": [
    "# some bulit in examples\n",
    "print(\"Absolute values : \", abs(-5))\n",
    "print(\"Binary value of a number : \", bin(-5))\n",
    "print(\"character from the specified Unicode value : \", chr(65))\n",
    "print(\"complex value of a number : \", complex(4))\n",
    "print(\"divmod value of argument1 is divided by argument2 : \", divmod(5,3))\n",
    "print(\"float value of given argument : \", float(5))\n",
    "print(\"Hsh value of given argument : \", hash('Hello'))\n",
    "print(\"Integer value of given argument : \", int(5.3))\n",
    "print(\"Length of the given argument : \", len([5.3,3,4,5,6]))\n",
    "print(\"largest value of given argument : \", max([5.3,3,4,5,6]))\n",
    "print(\"smallest value of given argument : \", min([5.3,3,4,5,6]))\n",
    "print(\"Rounds of given argument : \", round(5.6))\n",
    "print(\"String of given argument : \", str(5.6))\n",
    "print(\"Sum of given argument : \", sum([5.3,3,4,5,6]))"
   ]
  },
  {
   "cell_type": "markdown",
   "id": "cd554e64",
   "metadata": {},
   "source": [
    "### Python has four built-in collection Sequence data-types.\n",
    "\n",
    "- List\n",
    "\n",
    "- Tuple\n",
    "\n",
    "- Dictionary\n",
    "\n",
    "- Set (frozenset)"
   ]
  },
  {
   "cell_type": "markdown",
   "id": "fd4736da",
   "metadata": {},
   "source": [
    "### List\n",
    "\n",
    "**Python lists are used to store multiple items in a single variable. Lists are one of 4 built-in data types in Python used to store collections of data. Lists are created using square brackets []. Each item in a list is separated by a comma. Unlike strings, lists are mutable, which means they can be changed. Lists can contain any type of element, including other lists. To access an item in a list, you can use its index number. The index must be an integer. Nested lists are accessed using nested indexing. You can also use negative indexing to access elements from the end of the list.**\n",
    "\n",
    "### Lets see Some List operations"
   ]
  },
  {
   "cell_type": "code",
   "execution_count": 5,
   "id": "cc1c2db1",
   "metadata": {},
   "outputs": [
    {
     "name": "stdout",
     "output_type": "stream",
     "text": [
      "list :  [1, 2, 3, 4, 5, 6, 7, 8]\n",
      "\n",
      "Accessing the list item using index \n",
      "Accessing the first item in the list 1\n",
      "Accessing the last item in the list using negative index 8\n",
      "Accessing the first five item in the list using sliceing  [1, 2, 3, 4, 5]\n"
     ]
    }
   ],
   "source": [
    "random_list = [1,2,3,4,5,6,7,8]\n",
    "print(\"list : \",random_list)\n",
    "\n",
    "print(\"\\nAccessing the list item using index \")\n",
    "print(\"Accessing the first item in the list\" , random_list[0] )\n",
    "print(\"Accessing the last item in the list using negative index\" , random_list[-1] )\n",
    "print(\"Accessing the first five item in the list using sliceing \" , random_list[:5] )\n"
   ]
  },
  {
   "cell_type": "code",
   "execution_count": null,
   "id": "76997271",
   "metadata": {},
   "outputs": [],
   "source": []
  }
 ],
 "metadata": {
  "kernelspec": {
   "display_name": "Python 3 (ipykernel)",
   "language": "python",
   "name": "python3"
  },
  "language_info": {
   "codemirror_mode": {
    "name": "ipython",
    "version": 3
   },
   "file_extension": ".py",
   "mimetype": "text/x-python",
   "name": "python",
   "nbconvert_exporter": "python",
   "pygments_lexer": "ipython3",
   "version": "3.10.11"
  }
 },
 "nbformat": 4,
 "nbformat_minor": 5
}
